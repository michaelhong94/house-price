{
 "cells": [
  {
   "cell_type": "code",
   "execution_count": 1,
   "metadata": {},
   "outputs": [
    {
     "ename": "ModuleNotFoundError",
     "evalue": "No module named 'xgboost'",
     "output_type": "error",
     "traceback": [
      "\u001b[0;31m---------------------------------------------------------------------------\u001b[0m",
      "\u001b[0;31mModuleNotFoundError\u001b[0m                       Traceback (most recent call last)",
      "\u001b[0;32m<ipython-input-1-9a335e083e44>\u001b[0m in \u001b[0;36m<module>\u001b[0;34m()\u001b[0m\n\u001b[0;32m----> 1\u001b[0;31m \u001b[0;32mfrom\u001b[0m \u001b[0mxgboost\u001b[0m \u001b[0;32mimport\u001b[0m \u001b[0mXGBRegressor\u001b[0m\u001b[0;34m\u001b[0m\u001b[0m\n\u001b[0m\u001b[1;32m      2\u001b[0m \u001b[0;32mfrom\u001b[0m \u001b[0msklearn\u001b[0m\u001b[0;34m.\u001b[0m\u001b[0mensemble\u001b[0m \u001b[0;32mimport\u001b[0m \u001b[0mRandomForestRegressor\u001b[0m\u001b[0;34m,\u001b[0m \u001b[0mGradientBoostingRegressor\u001b[0m\u001b[0;34m,\u001b[0m \u001b[0mExtraTreesRegressor\u001b[0m\u001b[0;34m\u001b[0m\u001b[0m\n\u001b[1;32m      3\u001b[0m \u001b[0;32mfrom\u001b[0m \u001b[0msklearn\u001b[0m\u001b[0;34m.\u001b[0m\u001b[0mmodel_selection\u001b[0m \u001b[0;32mimport\u001b[0m \u001b[0mGridSearchCV\u001b[0m\u001b[0;34m\u001b[0m\u001b[0m\n\u001b[1;32m      4\u001b[0m \u001b[0;32mfrom\u001b[0m \u001b[0mmlxtend\u001b[0m\u001b[0;34m.\u001b[0m\u001b[0mregressor\u001b[0m \u001b[0;32mimport\u001b[0m \u001b[0mStackingRegressor\u001b[0m\u001b[0;34m\u001b[0m\u001b[0m\n",
      "\u001b[0;31mModuleNotFoundError\u001b[0m: No module named 'xgboost'"
     ]
    }
   ],
   "source": [
    "from xgboost import XGBRegressor\n",
    "from sklearn.ensemble import RandomForestRegressor, GradientBoostingRegressor, ExtraTreesRegressor\n",
    "from sklearn.model_selection import GridSearchCV\n",
    "from mlxtend.regressor import StackingRegressor"
   ]
  },
  {
   "cell_type": "code",
   "execution_count": 2,
   "metadata": {},
   "outputs": [],
   "source": [
    "#origin_data: 最原始数据；\n",
    "#data： 用于模型训练的数据"
   ]
  },
  {
   "cell_type": "code",
   "execution_count": 10,
   "metadata": {},
   "outputs": [
    {
     "ename": "SyntaxError",
     "evalue": "unexpected EOF while parsing (<ipython-input-10-12cfb9786f7a>, line 2)",
     "output_type": "error",
     "traceback": [
      "\u001b[0;36m  File \u001b[0;32m\"<ipython-input-10-12cfb9786f7a>\"\u001b[0;36m, line \u001b[0;32m2\u001b[0m\n\u001b[0;31m    \u001b[0m\n\u001b[0m    ^\u001b[0m\n\u001b[0;31mSyntaxError\u001b[0m\u001b[0;31m:\u001b[0m unexpected EOF while parsing\n"
     ]
    }
   ],
   "source": [
    "def stacking_regressor_training(origin_data,data,log_y):\n",
    "    '''\n",
    "    description for input:\n",
    "    {\n",
    "    origin_data: 最原始数据；\n",
    "    data： 用于模型训练的数据\n",
    "    }\n",
    "    description for output:\n",
    "    {\n",
    "    the best parameters:str\n",
    "    }\n",
    "    '''\n",
    "    #Find SaleCondition=='Normal' observations to fit the hyperparameters\n",
    "    normal_index = origin_data[origin_data['SaleCondition']=='Normal'].index\n",
    "    data_to_choose_hyperparas_x = data.ix[normal_index]\n",
    "    data_to_choose_hyperparas_y = log_y.ix[normal_index]\n",
    "    \n",
    "    #create the instance for the ensemble model\n",
    "    xgboost = XGBRegressor(nthread =-1)\n",
    "    gbr = GradientBoostingRegressor(random_state=1,\n",
    "                min_samples_split=2,\n",
    "                max_features='sqrt',\n",
    "                min_samples_leaf=1,)\n",
    "    etr = ExtraTreesRegressor(bootstrap=False, criterion='mse', \n",
    "          min_impurity_decrease=0.0, min_samples_leaf=1, min_samples_split=2,\n",
    "          min_weight_fraction_leaf=0.0,n_jobs=-1,\n",
    "         random_state=0, verbose=0, warm_start=True)\n",
    "    rfr = RandomForestRegressor()\n",
    "    regressors = [xgboost, gbr, etr, rfr]\n",
    "    stregr = StackingRegressor(regressors=regressors, meta_regressor=xgboost)\n",
    "    \n",
    "    #fit the hyperparameters\n",
    "    params = {\n",
    "        'xgboost__learning_rate' : [x/20.0 for range(1,20)]\n",
    "        'xgboost__reg_alph' : [x/20.0 for range(1,20)]\n",
    "        'xgboost__reg_lambda': [x/20.0 for range(1,20)]\n",
    "        'xgboost__n_estimators': [1000,1200,1500,1800,2000,2200,2400,2600,2800,3000]\n",
    "        'xgboost__subsample': [x/20.0 for range(1,20)]  \n",
    "        'xgboost__gamma': [x/20.0 for range(1,20)]\n",
    "        'rfr__n_estimators': [range(0,2100,100)]\n",
    "        'gbr__n_estimators': [range(0,3100,100)]\n",
    "        'gbr__learning_rate': [x/20.0 for range(1,20)]\n",
    "        'gbr__subsample': [x/10.0 for range(1,10)]\n",
    "        'gbr__max_depth': [range(3,6)]\n",
    "        'etr__n_estimators': [range(0,3100,100)]\n",
    "        'etr__learning_rate': [x/20.0 for range(1,20)]\n",
    "        'etr__subsample': [x/10.0 for range(1,10)]\n",
    "        'etr__max_depth': [range(3,6)]\n",
    "        \n",
    "    }\n",
    "    grid = GridSearchCV(estimator=stregr, param_grid=params, cv=5,refit=True)\n",
    "    grid.fit(data_to_choose_hyperparas_x, data_to_choose_hyperparas_y)\n",
    "    \n",
    "    return grid.best_params_"
   ]
  },
  {
   "cell_type": "code",
   "execution_count": null,
   "metadata": {},
   "outputs": [],
   "source": []
  },
  {
   "cell_type": "code",
   "execution_count": null,
   "metadata": {},
   "outputs": [],
   "source": []
  },
  {
   "cell_type": "code",
   "execution_count": null,
   "metadata": {},
   "outputs": [],
   "source": []
  }
 ],
 "metadata": {
  "kernelspec": {
   "display_name": "Python 3",
   "language": "python",
   "name": "python3"
  },
  "language_info": {
   "codemirror_mode": {
    "name": "ipython",
    "version": 3
   },
   "file_extension": ".py",
   "mimetype": "text/x-python",
   "name": "python",
   "nbconvert_exporter": "python",
   "pygments_lexer": "ipython3",
   "version": "3.7.2"
  }
 },
 "nbformat": 4,
 "nbformat_minor": 2
}
